{
  "nbformat": 4,
  "nbformat_minor": 0,
  "metadata": {
    "colab": {
      "name": "My first note book.ipynb",
      "provenance": [],
      "authorship_tag": "ABX9TyPXzsYE8hq9MfQfVF/awdYg",
      "include_colab_link": true
    },
    "kernelspec": {
      "name": "python3",
      "display_name": "Python 3"
    },
    "language_info": {
      "name": "python"
    }
  },
  "cells": [
    {
      "cell_type": "markdown",
      "metadata": {
        "id": "view-in-github",
        "colab_type": "text"
      },
      "source": [
        "<a href=\"https://colab.research.google.com/github/Vinod5C5/Basic-ML/blob/main/My_first_note_book.ipynb\" target=\"_parent\"><img src=\"https://colab.research.google.com/assets/colab-badge.svg\" alt=\"Open In Colab\"/></a>"
      ]
    },
    {
      "cell_type": "markdown",
      "metadata": {
        "id": "rWwmWyv4wbox"
      },
      "source": [
        " Python program for finding even or odd:"
      ]
    },
    {
      "cell_type": "code",
      "metadata": {
        "colab": {
          "base_uri": "https://localhost:8080/"
        },
        "id": "Vm2XXWc5uRom",
        "outputId": "1f1a7866-8544-4ee9-f32b-9c02b1378be3"
      },
      "source": [
        " \n",
        "N=int(input())\n",
        "if (N%2==0):\n",
        "   print(\" Even\")\n",
        "else:\n",
        "   print (\" Odd\")"
      ],
      "execution_count": 2,
      "outputs": [
        {
          "output_type": "stream",
          "text": [
            "31\n",
            " Odd\n"
          ],
          "name": "stdout"
        }
      ]
    },
    {
      "cell_type": "markdown",
      "metadata": {
        "id": "ZFI9P6cYxoMA"
      },
      "source": [
        " Python program for finding maximum of two numbers"
      ]
    },
    {
      "cell_type": "markdown",
      "metadata": {
        "id": "dQLrOIteyts8"
      },
      "source": [
        ""
      ]
    },
    {
      "cell_type": "code",
      "metadata": {
        "colab": {
          "base_uri": "https://localhost:8080/"
        },
        "id": "bvRqOXc8y3jJ",
        "outputId": "407be8ee-fd82-4452-f4c3-197a3fdea6b6"
      },
      "source": [
        " \n",
        "a=int(input(\"enter a:\")) \n",
        "b=int(input(\"enter b:\")) \n",
        "if (a>b):\n",
        "   print(\"max is a\")\n",
        "else:\n",
        "   print(\"max is b\")"
      ],
      "execution_count": 3,
      "outputs": [
        {
          "output_type": "stream",
          "text": [
            "enter a:15\n",
            "enter b:25\n",
            "max is b\n"
          ],
          "name": "stdout"
        }
      ]
    },
    {
      "cell_type": "markdown",
      "metadata": {
        "id": "pau2U0tVy9oT"
      },
      "source": [
        " Python program for finding leap year or not"
      ]
    },
    {
      "cell_type": "code",
      "metadata": {
        "colab": {
          "base_uri": "https://localhost:8080/"
        },
        "id": "gAVPkybVzFaF",
        "outputId": "7043e48e-e933-4461-e01e-a5cabf2e8387"
      },
      "source": [
        " \n",
        "y=int(input(\"enter a number:\")) \n",
        "if (y%4==0 and y%100!=0) or (y%400==0):\n",
        "   print(\"leap year\") \n",
        "else: \n",
        "   print(\"non leap year\")"
      ],
      "execution_count": 4,
      "outputs": [
        {
          "output_type": "stream",
          "text": [
            "enter a number:2450\n",
            "non leap year\n"
          ],
          "name": "stdout"
        }
      ]
    }
  ]
}